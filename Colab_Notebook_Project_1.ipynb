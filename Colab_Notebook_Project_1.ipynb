{
  "nbformat": 4,
  "nbformat_minor": 0,
  "metadata": {
    "colab": {
      "provenance": [],
      "toc_visible": true,
      "authorship_tag": "ABX9TyOyJwT/mPvfn3XK2aSDoDSi",
      "include_colab_link": true
    },
    "kernelspec": {
      "name": "python3",
      "display_name": "Python 3"
    },
    "language_info": {
      "name": "python"
    }
  },
  "cells": [
    {
      "cell_type": "markdown",
      "metadata": {
        "id": "view-in-github",
        "colab_type": "text"
      },
      "source": [
        "<a href=\"https://colab.research.google.com/github/spockthompson/Portfolio-Project/blob/main/Colab_Notebook_Project_1.ipynb\" target=\"_parent\"><img src=\"https://colab.research.google.com/assets/colab-badge.svg\" alt=\"Open In Colab\"/></a>"
      ]
    },
    {
      "cell_type": "markdown",
      "source": [
        "# Portfolio Project\n",
        "- Scotty Thomason"
      ],
      "metadata": {
        "id": "CRe5hhmEAqIP"
      }
    },
    {
      "cell_type": "markdown",
      "source": [
        "## Loading Data"
      ],
      "metadata": {
        "id": "1NZaJawSAw1G"
      }
    },
    {
      "cell_type": "code",
      "source": [],
      "metadata": {
        "id": "gVXYraR0A9Ur"
      },
      "execution_count": null,
      "outputs": []
    },
    {
      "cell_type": "markdown",
      "source": [
        "## Data Cleaning"
      ],
      "metadata": {
        "id": "X3lDlay4Azj3"
      }
    },
    {
      "cell_type": "markdown",
      "source": [
        "## Exploratory Visuals"
      ],
      "metadata": {
        "id": "spb3Kbn3A2Dj"
      }
    },
    {
      "cell_type": "markdown",
      "source": [
        "## Explanatory Visual"
      ],
      "metadata": {
        "id": "NXwbgBNkA5hB"
      }
    }
  ]
}